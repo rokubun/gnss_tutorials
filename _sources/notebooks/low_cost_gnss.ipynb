{
 "cells": [
  {
   "cell_type": "markdown",
   "metadata": {},
   "source": [
    "# Measurement quality from affordable GNSS receivers\n",
    "\n",
    "In this section we will assess some basic differences in terms of GNSS observables\n",
    "between a geodetic-grade and an affordable receiver."
   ]
  },
  {
   "cell_type": "code",
   "execution_count": null,
   "metadata": {
    "tags": [
     "hide-input"
    ]
   },
   "outputs": [],
   "source": [
    "import matplotlib.pyplot as plt\n",
    "import numpy as np\n",
    "import pandas as pd\n",
    "\n",
    "from roktools import rinex\n",
    "from roktools.time import compute_elapsed_seconds\n",
    "from roktools.stats import rms\n",
    "\n",
    "from roktools.gnss.types import ConstellationId, TrackingChannel, Satellite\n",
    "from roktools.gnss.observables import compute_code_minus_carrier, compute_geometry_free\n",
    "from roktools.gnss.edit import mark_time_gap, detrend, remove_mean\n",
    "\n",
    "%matplotlib widget"
   ]
  },
  {
   "cell_type": "markdown",
   "metadata": {},
   "source": [
    "Using the [`roktools` library](https://pypi.org/project/roktools/), the RINEX data from the receivers will be stored\n",
    "into a `pandas` `DataFrame` (`df` for short) for manipulation."
   ]
  },
  {
   "cell_type": "code",
   "execution_count": null,
   "metadata": {},
   "outputs": [],
   "source": [
    "# DataFrame with data from a geodetic receiver\n",
    "#df_geodetic = rinex.to_dataframe('../assets/SEYG00SYC_R_20140581500_05H_01S_MO.rnx')\n",
    "#df_geodetic.to_parquet('../assets/SEYG00SYC_R_20140581500_05H_01S_MO.rnx.parquet')\n",
    "df_geodetic = pd.read_parquet('../assets/SEYG00SYC_R_20140581500_05H_01S_MO.rnx.parquet')"
   ]
  },
  {
   "cell_type": "code",
   "execution_count": null,
   "metadata": {},
   "outputs": [],
   "source": [
    "# DataFrame with an affordable receiver\n",
    "#df_afford = rinex.to_dataframe('../assets/MTIC00ESP_R_20191221131_05H_01S_MO.rnx')\n",
    "#df_afford.to_parquet('../assets/MTIC00ESP_R_20191221131_05H_01S_MO.rnx.parquet')\n",
    "df_afford = pd.read_parquet('../assets/MTIC00ESP_R_20191221131_05H_01S_MO.rnx.parquet')"
   ]
  },
  {
   "cell_type": "markdown",
   "metadata": {},
   "source": [
    "The `DataFrame` can be consider a *CSV* file of sorts, where each row has a time tag, satellite, observables and other fields that will be explained and used later in the notebook. A preview of the contents can be obtained with the `head` method"
   ]
  },
  {
   "cell_type": "code",
   "execution_count": null,
   "metadata": {},
   "outputs": [],
   "source": [
    "df_geodetic.head()"
   ]
  },
  {
   "cell_type": "markdown",
   "metadata": {},
   "source": [
    "## Observable types\n",
    "\n",
    "Once we have loaded the RINEX files into DataFrames, we can perform some\n",
    "basic checks on the differences between geodetic and affordable GNSS data.\n",
    "\n",
    "The following example gives you *the channels tracked by the receiver for each GNSS constellation*.\n",
    "\n",
    "The channel corresponds to the last two characters (i.e. band and attribute) of \n",
    "the [RINEX observation code](https://files.igs.org/pub/data/format/rinex_4.00.pdf) (see Section 5.2.17). \n",
    "For instance `1C` for GPS means the observables obtained with the C/A tracking at the L1 frequency.\n",
    "\n",
    "To know the observables for constellation, we will use the `groupby` method of `pandas`."
   ]
  },
  {
   "cell_type": "code",
   "execution_count": null,
   "metadata": {},
   "outputs": [],
   "source": [
    "# We will group the data using various criteria\n",
    "columns = ['constellation', 'channel']\n",
    "\n",
    "# Use groupby() to group by the two columns and apply unique()\n",
    "unique_combinations = df_geodetic.groupby(columns).size()\n",
    "\n",
    "# Print the unique combinations (along with the number of samples for each\n",
    "# tracking channel)\n",
    "print(unique_combinations)"
   ]
  },
  {
   "cell_type": "markdown",
   "metadata": {},
   "source": [
    "We can now perform the same for the affordable receivers"
   ]
  },
  {
   "cell_type": "code",
   "execution_count": null,
   "metadata": {},
   "outputs": [],
   "source": [
    "unique_combinations = df_afford.groupby(columns).size()\n",
    "\n",
    "print(unique_combinations)"
   ]
  },
  {
   "cell_type": "markdown",
   "metadata": {},
   "source": [
    "In these examples, the following basic differences are observed:\n",
    "\n",
    "- the geodetic receiver tracks various frequencies (GPS L1/L2/L5, Galileo E1/E5a/E5b/E5, ...) whereas the affordable receiver tracks typically **two frequencies** (GPS L1/L2, Galileo E1/E5b, ...)\n",
    "- the affordable receiver does not attempt to track encrypted codes (i.e. GPS `P` code) by means of e.g. z-tracking loops. **Only civilian codes** (e.g. GPS L2C) are used.\n",
    "\n",
    "Some other strenghts of affordable receivers:\n",
    "\n",
    "- Availability of SNR and Doppler measurements (not always available in 30s or high rate CORS data)\n",
    "- High rate up to 0.1s (or even higher) available for affordable measurements\n",
    "\n"
   ]
  },
  {
   "cell_type": "markdown",
   "metadata": {},
   "source": [
    "## Code noise: Detrended code-minus-carrier\n",
    "\n",
    "The observable code noise of a GNSS receiver can be estimated using the \n",
    "[code-minus-carrier combination](cmc_combination). This section illustrates\n",
    "how to estimate to check some basic differences between receiver types\n"
   ]
  },
  {
   "cell_type": "markdown",
   "metadata": {},
   "source": [
    "The steps to be followed to compute the unbiased detrended Code minus carrier\n",
    "are detailed in the following steps (taking as example the Geodetic receiver\n",
    "and then applying it to the Affordable receiver)\n",
    "\n",
    "1. *Edit* the data and find phase breaks such as cycle\n",
    "slips. In this example, since receivers already provide with Loss-of-Lock Indicator\n",
    "(LLI), we will only mark phase breaks due to data **time gaps**"
   ]
  },
  {
   "cell_type": "code",
   "execution_count": null,
   "metadata": {},
   "outputs": [],
   "source": [
    "df_geodetic_cmc = mark_time_gap(df_geodetic)"
   ]
  },
  {
   "cell_type": "markdown",
   "metadata": {},
   "source": [
    "2. Proceed to **compute the code minus carrier (CMC)** observable. Each row of the `DataFrame`\n",
    "contains the range and phase, so there will be as many CMC observables as rows.\n",
    "A note of caution: the phase is usually expressed in cycles, therefore we will\n",
    "need to get the wavelength from the tracking channel in order to be consistent\n",
    "with the units"
   ]
  },
  {
   "cell_type": "code",
   "execution_count": null,
   "metadata": {},
   "outputs": [],
   "source": [
    "df_geodetic_cmc = compute_code_minus_carrier(df_geodetic_cmc)"
   ]
  },
  {
   "cell_type": "code",
   "execution_count": null,
   "metadata": {},
   "outputs": [],
   "source": [
    "df_geodetic_cmc.head()"
   ]
  },
  {
   "cell_type": "code",
   "execution_count": null,
   "metadata": {},
   "outputs": [],
   "source": [
    "\n",
    "# Plot a CMC for a channel and satellite\n",
    "signal = 'E121X'\n",
    "df_sample = df_geodetic_cmc[df_geodetic_cmc['signal'] == signal]\n",
    "plt.close()\n",
    "plt.plot(compute_elapsed_seconds(df_sample['epoch'])/3600, df_sample['cmc'], ',k')\n",
    "plt.xlabel('Elapsed hours')\n",
    "plt.ylabel('CMC [m]')\n",
    "_ = plt.title(f'Code-minus-carrier for {signal}')\n"
   ]
  },
  {
   "cell_type": "markdown",
   "metadata": {},
   "source": [
    "3. Because the CMC contains twice the ionosphere, which is a nuisance parameter\n",
    "for us (because we are interested in the noise). We will proceed to remove its\n",
    "contribution with a simple detrending, based on a rolling window"
   ]
  },
  {
   "cell_type": "code",
   "execution_count": null,
   "metadata": {},
   "outputs": [],
   "source": [
    "n_samples = 5\n",
    "df_geodetic_cmc = detrend(df_geodetic_cmc, 'cmc', n_samples)"
   ]
  },
  {
   "cell_type": "code",
   "execution_count": null,
   "metadata": {},
   "outputs": [],
   "source": [
    "# Plot the detrened CMC for a channel and satellite\n",
    "signal = 'E121X'\n",
    "df_sample = df_geodetic_cmc[df_geodetic_cmc['signal'] == signal]\n",
    "plt.close()\n",
    "plt.plot(compute_elapsed_seconds(df_sample['epoch'])/3600, df_sample['cmc_detrended'], ',k')\n",
    "plt.xlabel('Elapsed hours')\n",
    "plt.ylabel('Detrended CMC [m]')\n",
    "plt.ylim(-1, 1)\n",
    "_ = plt.title(f'Detrended Code-minus-carrier for {signal}')\n"
   ]
  },
  {
   "cell_type": "code",
   "execution_count": null,
   "metadata": {},
   "outputs": [],
   "source": [
    "\n",
    "# Analysis for Ublox receiver\n",
    "df_afford_cmc = mark_time_gap(df_afford)\n",
    "df_afford_cmc = compute_code_minus_carrier(df_afford_cmc)\n",
    "df_afford_cmc = detrend(df_afford_cmc, 'cmc', n_samples)\n"
   ]
  },
  {
   "cell_type": "markdown",
   "metadata": {},
   "source": [
    "Let's compute now an estimate of the code noise for the geodetic grade and\n",
    "the affordable receiver, for a specific band and constellation."
   ]
  },
  {
   "cell_type": "code",
   "execution_count": null,
   "metadata": {},
   "outputs": [],
   "source": [
    "# GLONASS is excluded as the slot number to know the frequency (and hence the wavelength)\n",
    "# is missing\n",
    "condition1 = df_geodetic_cmc['constellation'] == ConstellationId.GPS.value\n",
    "condition2 = df_geodetic_cmc['channel'] == '2W'\n",
    "#condition2 = df_geodetic_cmc['channel'] == '1C'\n",
    "df_tmp_g = df_geodetic_cmc[condition1 & condition2]\n",
    "\n",
    "condition1 = df_afford_cmc['constellation'] == ConstellationId.GPS.value\n",
    "condition2 = df_afford_cmc['channel'] == '2L'\n",
    "#condition2 = df_afford_cmc['channel'] == '1C'\n",
    "df_tmp_a = df_afford_cmc[condition1 & condition2]\n",
    "\n",
    "noise_samples_geodetic = df_tmp_g['cmc_detrended']\n",
    "noise_samples_afford = df_tmp_a['cmc_detrended']\n",
    "\n",
    "rms_geodetic = rms(noise_samples_geodetic)\n",
    "rms_afford = rms(noise_samples_afford)\n",
    "\n",
    "print(f'Geodetic   receiver code noise: {rms_geodetic:.2} m')\n",
    "print(f'Affordable receiver code noise: {rms_afford:.2} m')"
   ]
  },
  {
   "cell_type": "markdown",
   "metadata": {},
   "source": [
    "## Observable noise: Detrended LI\n",
    "\n",
    "In addition, to the estimation of the code, for multifrequency receivers, the\n",
    "[geometry-free (ionospheric) combination](../docs/gnss_observables.md) \n",
    "can be used to estimate the noise of the phase observables"
   ]
  },
  {
   "cell_type": "code",
   "execution_count": null,
   "metadata": {},
   "outputs": [],
   "source": [
    "constellation = ConstellationId.GPS\n",
    "channel_a = TrackingChannel.from_string('1C')\n",
    "channel_b = TrackingChannel.from_string('2W')\n",
    "\n",
    "# Let's reuse the previous dataframe that has been already edited (time gaps marked)\n",
    "df_geodetic_li = compute_geometry_free(df_geodetic_cmc, constellation, channel_a, channel_b)"
   ]
  },
  {
   "cell_type": "markdown",
   "metadata": {},
   "source": [
    "The ionospheric combination (LI) contains the ionospheric delay, constant terms\n",
    "due to the phase ambiguities of the carrier phases used to build the combination\n",
    "as well as the phase hardware biases and noise of the phase observable\n",
    "\n",
    "An example of LI for a particular satellite is shown in the Figure below"
   ]
  },
  {
   "cell_type": "code",
   "execution_count": null,
   "metadata": {},
   "outputs": [],
   "source": [
    "df_geodetic_li"
   ]
  },
  {
   "cell_type": "code",
   "execution_count": null,
   "metadata": {},
   "outputs": [],
   "source": [
    "sat = 'G04'\n",
    "\n",
    "condition1 = df_geodetic_li['sat'] == sat\n",
    "df_tmp = df_geodetic_li[condition1]\n",
    "\n",
    "t = compute_elapsed_seconds(df_tmp['epoch'])\n",
    "li = df_tmp['li_m']\n",
    "\n",
    "plt.close()\n",
    "plt.plot(t, li, '.')\n",
    "plt.xlabel('Time [seconds]')\n",
    "plt.ylabel('LI [m]')\n",
    "plt.title(f'LI combination for {sat}, Geoetic receiver (SEY1)')\n"
   ]
  },
  {
   "cell_type": "code",
   "execution_count": null,
   "metadata": {},
   "outputs": [],
   "source": [
    "import pandas as pd\n",
    "\n",
    "def detrend_li_combination(df:pd.DataFrame):\n",
    "    \"\"\"\n",
    "    Perform a detrending of the LI combination (if present in the input dataframe)\n",
    "    \"\"\"\n",
    "\n",
    "    df['slip_li'] =  df['slip_a'] | df['slip_b']\n",
    "    df['arc_id'] = df.groupby(['signal_a', 'signal_b'])['slip_li'].transform('cumsum')\n",
    "    trend = df.groupby(['signal_a', 'signal_b', 'arc_id'])['li_m'].transform(lambda x: x.rolling(n_samples).mean())\n",
    "    df['li_trend'] = trend\n",
    "    df['li_detrended'] = df['li_m'] - df['li_trend']\n"
   ]
  },
  {
   "cell_type": "code",
   "execution_count": null,
   "metadata": {},
   "outputs": [],
   "source": [
    "detrend_li_combination(df_geodetic_li)"
   ]
  },
  {
   "cell_type": "code",
   "execution_count": null,
   "metadata": {},
   "outputs": [],
   "source": [
    "condition1 = df_geodetic_li['signal_a'] == 'G041C'\n",
    "condition2 = df_geodetic_li['signal_b'] == 'G042W'\n",
    "\n",
    "df_sample = df_geodetic_li[condition1 & condition2]\n",
    "plt.close()\n",
    "plt.plot(df_sample['epoch'], df_sample['li_detrended'], '.')\n",
    "plt.ylim(-0.05, 0.05)"
   ]
  },
  {
   "cell_type": "markdown",
   "metadata": {},
   "source": [
    "We can proceed with the same analysis for the affordable receiver, taking into\n",
    "account that the observables are slightly different"
   ]
  },
  {
   "cell_type": "code",
   "execution_count": null,
   "metadata": {},
   "outputs": [],
   "source": [
    "channel_a = TrackingChannel.from_string('1C')\n",
    "channel_b = TrackingChannel.from_string('2L')\n",
    "\n",
    "df_afford_li = compute_geometry_free(df_afford_cmc, constellation, channel_a, channel_b)\n",
    "\n",
    "detrend_li_combination(df_afford_li)\n"
   ]
  },
  {
   "cell_type": "code",
   "execution_count": null,
   "metadata": {},
   "outputs": [],
   "source": [
    "condition1 = df_afford_li['signal_a'] == 'G241C'\n",
    "condition2 = df_afford_li['signal_b'] == 'G242L'\n",
    "\n",
    "df_sample = df_afford_li[condition1 & condition2]\n",
    "\n",
    "plt.close()\n",
    "plt.plot(df_sample['epoch'], df_sample['li_detrended'], '.')\n",
    "plt.ylim(-0.05, 0.05)"
   ]
  },
  {
   "cell_type": "markdown",
   "metadata": {},
   "source": [
    "The detrended time series can be used to compute the noise figures of the\n",
    "carrier phase for both types of receivers"
   ]
  },
  {
   "cell_type": "code",
   "execution_count": null,
   "metadata": {},
   "outputs": [],
   "source": [
    "# Remove outliers for the statistics\n",
    "noise_li_afford = df_afford_li['li_detrended'][(df_afford_li['li_detrended'] > -1) & (df_afford_li['li_detrended'] < 1)]\n",
    "noise_li_geodetic = df_geodetic_li['li_detrended'][(df_geodetic_li['li_detrended'] > -1) & (df_geodetic_li['li_detrended'] < 1)]\n",
    "\n",
    "print(f\"Phase Noise Affordable receiver: {np.std(noise_li_afford)*100:.0f} cm\")\n",
    "print(f\"Phase Noise Geodetic   receiver: {np.std(noise_li_geodetic)*100:.0f} cm\") "
   ]
  },
  {
   "cell_type": "markdown",
   "metadata": {},
   "source": [
    "As it can be seen, the differences between receivers is not substantial. This\n",
    "can be further confirmed with the actual distribution of the noise samples, which\n",
    "follow a very similar Gaussian pattern for both receivers"
   ]
  },
  {
   "cell_type": "code",
   "execution_count": null,
   "metadata": {},
   "outputs": [],
   "source": [
    "plt.close()\n",
    "bins = np.linspace(-0.05, 0.05, 200)\n",
    "_ = plt.hist(df_geodetic_li['li_detrended'], bins=bins, histtype='step', label='Geodetic')\n",
    "_ = plt.hist(df_afford_li['li_detrended'], bins=bins, histtype='step', label='Affordable')\n",
    "plt.legend()\n",
    "plt.title('Histogram of carrier phase noise (estimated with LI)')\n",
    "plt.xlabel('Code phase error [m]')\n",
    "plt.ylabel('Count')"
   ]
  }
 ],
 "metadata": {
  "kernelspec": {
   "display_name": "Python 3 (ipykernel)",
   "language": "python",
   "name": "python3"
  },
  "language_info": {
   "codemirror_mode": {
    "name": "ipython",
    "version": 3
   },
   "file_extension": ".py",
   "mimetype": "text/x-python",
   "name": "python",
   "nbconvert_exporter": "python",
   "pygments_lexer": "ipython3",
   "version": "3.11.6"
  }
 },
 "nbformat": 4,
 "nbformat_minor": 4
}
