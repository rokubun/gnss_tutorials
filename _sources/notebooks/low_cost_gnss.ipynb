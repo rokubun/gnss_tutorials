{
 "cells": [
  {
   "cell_type": "markdown",
   "metadata": {},
   "source": [
    "# Measurement quality from affordable GNSS receivers\n",
    "\n",
    "In this section we will assess some basic differences in terms of GNSS observables\n",
    "between a geodetic-grade and an affordable receiver."
   ]
  },
  {
   "cell_type": "code",
   "execution_count": null,
   "metadata": {
    "tags": [
     "hide-input"
    ]
   },
   "outputs": [],
   "source": [
    "import matplotlib.pyplot as plt\n",
    "import numpy as np\n",
    "\n",
    "from roktools import rinex\n",
    "from roktools.gnss.types import ConstellationId\n",
    "\n",
    "# Instructions to import code within the custom source folder\n",
    "import sys\n",
    "sys.path.append('../source/')\n",
    "\n",
    "%matplotlib widget"
   ]
  },
  {
   "cell_type": "markdown",
   "metadata": {},
   "source": [
    "Using the [`roktools` library](https://pypi.org/project/roktools/), the RINEX data from the receivers will be stored\n",
    "into a `pandas` `DataFrame` (`df` for short) for manipulation."
   ]
  },
  {
   "cell_type": "code",
   "execution_count": null,
   "metadata": {},
   "outputs": [],
   "source": [
    "# DataFrame with data from a geodetic receiver\n",
    "df_geodetic = rinex.to_dataframe('../assets/SEYG00SYC_R_20140581500_05H_01S_MO.rnx')"
   ]
  },
  {
   "cell_type": "code",
   "execution_count": null,
   "metadata": {},
   "outputs": [],
   "source": [
    "# DataFrame with an affordable receiver\n",
    "df_afford = rinex.to_dataframe('../assets/MTIC00ESP_R_20191221131_05H_01S_MO.rnx')"
   ]
  },
  {
   "cell_type": "markdown",
   "metadata": {},
   "source": [
    "The `DataFrame` can be consider a *CSV* file of sorts, where each row has a time tag, satellite, observables and other fields that will be explained and used later in the notebook. A preview of the contents can be obtained with the `head` method"
   ]
  },
  {
   "cell_type": "code",
   "execution_count": null,
   "metadata": {},
   "outputs": [],
   "source": [
    "df_geodetic.head()"
   ]
  },
  {
   "cell_type": "markdown",
   "metadata": {},
   "source": [
    "## Observable types\n",
    "\n",
    "Once we have loaded the RINEX files into DataFrames, we can perform some\n",
    "basic checks on the differences between geodetic and affordable GNSS data.\n",
    "\n",
    "The following example gives you *the channels tracked by the receiver for each GNSS constellation*.\n",
    "\n",
    "The channel corresponds to the last two characters (i.e. band and attribute) of \n",
    "the [RINEX observation code](https://files.igs.org/pub/data/format/rinex_4.00.pdf) (see Section 5.2.17). \n",
    "For instance `1C` for GPS means the observables obtained with the C/A tracking at the L1 frequency.\n",
    "\n",
    "To know the observables for constellation, we will use the `groupby` method of `pandas`."
   ]
  },
  {
   "cell_type": "code",
   "execution_count": null,
   "metadata": {},
   "outputs": [],
   "source": [
    "# We will group the data using various criteria\n",
    "columns = ['constellation', 'channel']\n",
    "\n",
    "# Use groupby() to group by the two columns and apply unique()\n",
    "unique_combinations = df_geodetic.groupby(columns).size()\n",
    "\n",
    "# Print the unique combinations (along with the number of samples for each\n",
    "# tracking channel)\n",
    "print(unique_combinations)"
   ]
  },
  {
   "cell_type": "markdown",
   "metadata": {},
   "source": [
    "We can now perform the same for the affordable receivers"
   ]
  },
  {
   "cell_type": "code",
   "execution_count": null,
   "metadata": {},
   "outputs": [],
   "source": [
    "unique_combinations = df_afford.groupby(columns).size()\n",
    "\n",
    "print(unique_combinations)"
   ]
  },
  {
   "cell_type": "markdown",
   "metadata": {},
   "source": [
    "In these examples, the following basic differences are observed:\n",
    "\n",
    "- the geodetic receiver tracks various frequencies (GPS L1/L2/L5, Galileo E1/E5a/E5b/E5, ...) whereas the affordable receiver tracks typically **two frequencies** (GPS L1/L2, Galileo E1/E5b, ...)\n",
    "- the affordable receiver does not attempt to track encrypted codes (i.e. GPS `P` code) by means of e.g. z-tracking loops. **Only civilian codes** (e.g. GPS L2C) are used.\n",
    "\n",
    "Some other strenghts of affordable receivers:\n",
    "\n",
    "- Availability of SNR and Doppler measurements (not always available in 30s or high rate CORS data)\n",
    "- High rate up to 0.1s (or even higher) available for affordable measurements\n",
    "\n"
   ]
  },
  {
   "cell_type": "markdown",
   "metadata": {},
   "source": [
    "## Code noise: Detrended code-minus-carrier\n",
    "\n",
    "The observable code noise of a GNSS receiver can be estimated using the \n",
    "[code-minus-carrier combination](cmc_combination). This section illustrates\n",
    "how to estimate to check some basic differences between receiver types\n",
    "\n",
    "First we will import several methods that will be required to process data\n",
    "(will be illustrated later)"
   ]
  },
  {
   "cell_type": "code",
   "execution_count": null,
   "metadata": {},
   "outputs": [],
   "source": [
    "# Import the modules from the custom 'source' package of this book\n",
    "from gnss.observables import compute_code_minus_carrier\n",
    "from gnss.edit import mark_time_gap, detrend, remove_mean"
   ]
  },
  {
   "cell_type": "markdown",
   "metadata": {},
   "source": [
    "The steps to be followed to compute the unbiased detrended Code minus carrier\n",
    "are detailed in the following steps (taking as example the Geodetic receiver\n",
    "and then applying it to the Affordable receiver)\n",
    "\n",
    "1. *Edit* the data and find phase breaks such as cycle\n",
    "slips. In this example, since receivers already provide with Loss-of-Lock Indicator\n",
    "(LLI), we will only mark phase breaks due to data **time gaps**"
   ]
  },
  {
   "cell_type": "code",
   "execution_count": null,
   "metadata": {},
   "outputs": [],
   "source": [
    "df_geodetic_cmc = mark_time_gap(df_geodetic)"
   ]
  },
  {
   "cell_type": "markdown",
   "metadata": {},
   "source": [
    "2. Proceed to **compute the code minus carrier (CMC)** observable. Each row of the `DataFrame`\n",
    "contains the range and phase, so there will be as many CMC observables as rows.\n",
    "A note of caution: the phase is usually expressed in cycles, therefore we will\n",
    "need to get the wavelength from the tracking channel in order to be consistent\n",
    "with the units"
   ]
  },
  {
   "cell_type": "code",
   "execution_count": null,
   "metadata": {},
   "outputs": [],
   "source": [
    "df_geodetic_cmc = compute_code_minus_carrier(df_geodetic_cmc)"
   ]
  },
  {
   "cell_type": "code",
   "execution_count": null,
   "metadata": {},
   "outputs": [],
   "source": [
    "from helpers import compute_elapsed_seconds\n",
    "\n",
    "# Plot a CMC for a channel and satellite\n",
    "signal = 'E121X'\n",
    "df_sample = df_geodetic_cmc[df_geodetic_cmc['signal'] == signal]\n",
    "plt.close()\n",
    "plt.plot(compute_elapsed_seconds(df_sample['epoch'])/3600, df_sample['cmc'], ',k')\n",
    "plt.xlabel('Elapsed hours')\n",
    "plt.ylabel('CMC [m]')\n",
    "_ = plt.title(f'Code-minus-carrier for {signal}')\n"
   ]
  },
  {
   "cell_type": "markdown",
   "metadata": {},
   "source": [
    "3. Because the CMC contains twice the ionosphere, which is a nuisance parameter\n",
    "for us (because we are interested in the noise). We will proceed to remove its\n",
    "contribution with a simple detrending, based on a rolling window"
   ]
  },
  {
   "cell_type": "code",
   "execution_count": null,
   "metadata": {},
   "outputs": [],
   "source": [
    "n_samples = 5\n",
    "df_geodetic_cmc = detrend(df_geodetic_cmc, 'cmc', n_samples)"
   ]
  },
  {
   "cell_type": "code",
   "execution_count": null,
   "metadata": {},
   "outputs": [],
   "source": [
    "# Plot the detrened CMC for a channel and satellite\n",
    "signal = 'E121X'\n",
    "df_sample = df_geodetic_cmc[df_geodetic_cmc['signal'] == signal]\n",
    "plt.close()\n",
    "plt.plot(compute_elapsed_seconds(df_sample['epoch'])/3600, df_sample['cmc_detrended'], ',k')\n",
    "plt.xlabel('Elapsed hours')\n",
    "plt.ylabel('Detrended CMC [m]')\n",
    "plt.ylim(-1, 1)\n",
    "_ = plt.title(f'Detrended Code-minus-carrier for {signal}')\n"
   ]
  },
  {
   "cell_type": "code",
   "execution_count": null,
   "metadata": {},
   "outputs": [],
   "source": [
    "\n",
    "# Analysis for Ublox receiver\n",
    "df_afford_cmc = mark_time_gap(df_afford)\n",
    "df_afford_cmc = compute_code_minus_carrier(df_afford_cmc)\n",
    "df_afford_cmc = detrend(df_afford_cmc, 'cmc', n_samples)\n"
   ]
  },
  {
   "cell_type": "markdown",
   "metadata": {},
   "source": [
    "Let's compute now an estimate of the code noise for the geodetic grade and\n",
    "the affordable receiver, for a specific band and constellation."
   ]
  },
  {
   "cell_type": "code",
   "execution_count": null,
   "metadata": {},
   "outputs": [],
   "source": [
    "# GLONASS is excluded as the slot number to know the frequency (and hence the wavelength)\n",
    "# is missing\n",
    "condition1 = df_geodetic_cmc['constellation'] == ConstellationId.GPS\n",
    "condition2 = df_geodetic_cmc['channel'] == '2W'\n",
    "#condition2 = df_geodetic_cmc['channel'] == '1C'\n",
    "df_tmp_g = df_geodetic_cmc[condition1 & condition2]\n",
    "\n",
    "condition1 = df_afford_cmc['constellation'] == ConstellationId.GPS\n",
    "condition2 = df_afford_cmc['channel'] == '2L'\n",
    "#condition2 = df_afford_cmc['channel'] == '1C'\n",
    "df_tmp_a = df_afford_cmc[condition1 & condition2]\n",
    "\n",
    "noise_samples_geodetic = df_tmp_g['cmc_detrended']\n",
    "noise_samples_afford = df_tmp_a['cmc_detrended']\n",
    "\n",
    "rms_geodetic = np.sqrt(np.mean(np.square(noise_samples_geodetic)))\n",
    "rms_afford = np.sqrt(np.mean(np.square(noise_samples_afford)))\n",
    "\n",
    "print(f'Geodetic   receiver code noise: {rms_geodetic:.2} m')\n",
    "print(f'Affordable receiver code noise: {rms_afford:.2} m')"
   ]
  },
  {
   "cell_type": "markdown",
   "metadata": {},
   "source": [
    "## Observable noise: Detrended LI\n",
    "\n",
    "A basic quality parameter we can check is the computation of the detrended ionospheric observable\n",
    "observation. The ionospheric combination removes the geometry, while the detrending process \n",
    "removes the ionosphere as well as the biases (ambiguities and hardware biases).\n",
    "The remaining terms is an approximation of the phase noise (if LI is used) \n",
    "or the code noise (if PI is used instead)"
   ]
  },
  {
   "cell_type": "code",
   "execution_count": null,
   "metadata": {},
   "outputs": [],
   "source": [
    "import pandas as pd\n",
    "from roktools.gnss.types import ConstellationId, TrackingChannel\n",
    "\n",
    "def compute_cmc(df: pd.DataFrame, constellation: ConstellationId, channel_a: TrackingChannel, channel_b: TrackingChannel) -> pd.DataFrame:\n",
    "    \"\"\"\n",
    "    Compute the Code minus Carrier\n",
    "    \"\"\"\n",
    "\n",
    "    # Create subsets of the DataFrame corresponding to the constellation and each of\n",
    "    # the channels selected to build the ionospheric combination\n",
    "    df_a = df[(df['constellation'] == constellation) & (df['channel'] == str(channel_a))]\n",
    "    df_b = df[(df['constellation'] == constellation) & (df['channel'] == str(channel_b))]\n",
    "\n",
    "    # Compute the wavelength of the two tracking channels\n",
    "    wl_a = channel_a.get_wavelength(constellation)\n",
    "    wl_b = channel_b.get_wavelength(constellation)\n",
    "    \n",
    "    # Use merge to join the two tables\n",
    "    df_out = pd.merge(df_a, df_b, on=['epoch', 'sat'], how='inner', suffixes=('_a', '_b'))\n",
    "    df_out['li_m'] = df_out['phase_a'] * wl_a - df_out['phase_b'] * wl_b\n",
    "    df_out['pi_m'] = df_out['range_b'] - df_out['range_a']\n",
    "\n",
    "    # Define a custom rolling function to calculate the trend\n",
    "    def do_rolling_window(group, column, new_column):\n",
    "        group[new_column] = group[column].rolling(window=30).mean()\n",
    "        return group\n",
    "\n",
    "    # Apply the custom rolling function within each group\n",
    "    df_tmp = df_out.groupby('sat', group_keys=False).apply(lambda group: do_rolling_window(group, 'li_m', 'li_trend_m'))\n",
    "    b = df_tmp.groupby('sat', group_keys=False).apply(lambda group: do_rolling_window(group, 'pi_m', 'pi_trend_m'))\n",
    "\n",
    "    return b\n",
    "\n",
    "def get_seconds_since_start(epochs:pd.Series) -> list:\n",
    "    \"\"\"\n",
    "    Converts a pandas series of epochs into a list of secodf.head()nds relative to the first epoch\n",
    "    \"\"\"\n",
    "    return (epochs - epochs[0]).dt.total_seconds().tolist()\n"
   ]
  }
 ],
 "metadata": {
  "kernelspec": {
   "display_name": "base",
   "language": "python",
   "name": "python3"
  },
  "language_info": {
   "codemirror_mode": {
    "name": "ipython",
    "version": 3
   },
   "file_extension": ".py",
   "mimetype": "text/x-python",
   "name": "python",
   "nbconvert_exporter": "python",
   "pygments_lexer": "ipython3",
   "version": "3.11.3"
  },
  "orig_nbformat": 4
 },
 "nbformat": 4,
 "nbformat_minor": 2
}
