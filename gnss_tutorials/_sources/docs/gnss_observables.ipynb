{
 "cells": [
  {
   "cell_type": "markdown",
   "id": "3e621ff5",
   "metadata": {},
   "source": [
    "# GNSS observables\n",
    "\n",
    "We understand by GNSS observables as\n",
    "\n",
    "- pseudorange\n",
    "- carrier phase\n",
    "- Doppler\n",
    "- Signal-to-Noise ratio\n",
    "\n",
    "These are delivered usually in RINEX format\n",
    "\n",
    "## Observable model\n",
    "\n",
    "The GNSS observables can be modelled usign the following expressions for the code and phase\n",
    "\n",
    "$$\n",
    "P = \\rho + c \\cdot (dt_r - dt^s) +  \\frac{40.3}{f^2}\\cdot STEC_r^s+T + b_P + \\varepsilon_P\n",
    "$$\n",
    "\n",
    "$$\n",
    "L = \\rho + c \\cdot (dt_r - dt^s) -  \\frac{40.3}{f^2}\\cdot STEC_r^s+ T + b_L + \\lambda \\cdot N + \\varepsilon_P\n",
    "$$\n",
    "\n",
    "where:\n",
    "\n",
    "- $P$ and $L$ represent the pseudorange and carrier-phase respectively\n",
    "- $\\rho$ is the geometric (Euclidean) distance between the receiver and satellite\n",
    "- $dt_r$ and $dt^s$ is the clock bias for the receiver and satellite. $c$ is the speed of light\n",
    "- $f$ is the frequency of the signal (and $\\lambda$ is the corresponding wavelength)\n",
    "- $b_P$ and $b_L$ are the code and phase hardware biases respectively\n",
    "- $N$ is the integer phase ambiguity\n",
    "\n",
    "\n",
    "## Observable combination\n",
    "\n",
    "### Ionospheric (geometry-free) combination\n",
    "\n",
    "Between frequencies $a$ and $b$. Assuming that $f_b > f_a$, the code combination\n",
    "can be expressed as:\n",
    "\n",
    "$$\n",
    "PI_{a,b} = P_a - P_b = 40.3 \\cdot \\left ( \\frac{1}{f_a^2} - \\frac{1}{f_b^2} \\right) \\cdot STEC_r^s + b_{P,a} - b_{P,b} + \\sqrt{2} \\cdot \\varepsilon_P\n",
    "$$\n",
    "\n",
    "On the other hand, the ionospheric combination of phases can be expressed as:\n",
    "\n",
    "```{math}\n",
    ":label: iono_comb_phase\n",
    "LI_{a,b} = P_b - P_a = 40.3 \\cdot \\left ( \\frac{1}{f_a^2} - \\frac{1}{f_b^2} \\right) \\cdot STEC_r^s + b_{L,b} - b_{L,a} + {\\lambda}_b \\cdot N_b - {\\lambda}_a \\cdot N_a + \\sqrt{2} \\cdot \\varepsilon_L\n",
    "```\n",
    "\n",
    "\n",
    "In GNSS textbooks, the term $40.3 \\cdot \\left ( \\frac{1}{f_a^2} - \\frac{1}{f_b^2} \\right)$ is usually referred to the alpha constant $\\alpha_{LI}$ for the given frequencies\n",
    "\n",
    "For example, the $\\alpha_{LI}$ for GPS L1 and L2 frequencies can be computed as follows:"
   ]
  },
  {
   "cell_type": "code",
   "execution_count": 1,
   "id": "94a5e7bf",
   "metadata": {},
   "outputs": [
    {
     "data": {
      "text/plain": [
       "1.0504595284873213e-17"
      ]
     },
     "execution_count": 1,
     "metadata": {},
     "output_type": "execute_result"
    }
   ],
   "source": [
    "40.3 * (1 / (10.23e6*120)**2 - 1 / (10.23e6*154)**2)"
   ]
  },
  {
   "cell_type": "markdown",
   "id": "4cc3119f",
   "metadata": {},
   "source": [
    "On the other hand, the term $b_{P,a} - b_{P,b}$ is known as the Differential\n",
    "Code Bias (DCB) between the codes $P_a$ and $P_b$ (i.e. $DCB(P_a, P_b)$).\n",
    "\n",
    "This combination is usually employed when building models for ionospheric estimation\n",
    "due to the fact that the Slant Total Electron Content (STEC) is exposed."
   ]
  }
 ],
 "metadata": {
  "jupytext": {
   "formats": "md:myst",
   "text_representation": {
    "extension": ".md",
    "format_name": "myst"
   }
  },
  "kernelspec": {
   "display_name": "Python 3",
   "language": "python",
   "name": "python3"
  },
  "language_info": {
   "codemirror_mode": {
    "name": "ipython",
    "version": 3
   },
   "file_extension": ".py",
   "mimetype": "text/x-python",
   "name": "python",
   "nbconvert_exporter": "python",
   "pygments_lexer": "ipython3",
   "version": "3.11.5"
  },
  "source_map": [
   11,
   69,
   71
  ]
 },
 "nbformat": 4,
 "nbformat_minor": 5
}