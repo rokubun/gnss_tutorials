{
 "cells": [
  {
   "cell_type": "markdown",
   "id": "825521f4-225f-4a90-87b6-4e4dfdd2049a",
   "metadata": {},
   "source": [
    "# Pandas\n",
    "\n",
    "In this section, you will find a basic tutorial on [Pandas](https://pandas.pydata.org/), which is *\"a fast, powerful, flexible and easy to use open source data analysis and manipulation tool\"*. \n",
    "\n",
    "Pandas is a powerful Python library for data manipulation and analysis. It provides data structures and functions needed to work with structured data seamlessly. In this tutorial, we'll cover some fundamental aspects of Pandas.\n",
    "\n",
    "## Basic installation\n",
    "\n",
    "To use pandas, make sure that you have it in your system. If not, you can use `pip` \n",
    "to install it:\n",
    "\n",
    "```bash\n",
    "pip install pandas\n",
    "```\n",
    "\n",
    "Then you will be able to import the `pandas` module with an `import` command:"
   ]
  },
  {
   "cell_type": "code",
   "execution_count": null,
   "id": "4fa1037d-b996-4835-b896-6d5d309fce67",
   "metadata": {},
   "outputs": [],
   "source": [
    "import pandas as pd"
   ]
  },
  {
   "cell_type": "markdown",
   "id": "7fa5df72",
   "metadata": {},
   "source": [
    "\n",
    "## Creating a DataFrame\n",
    "\n",
    "A DataFrame is the basic data storage structure in `pandas`. Is a two-dimensional labeled data structure with columns that can be of different types. You can create a DataFrame using various methods, such as from dictionaries, lists, or reading data from files.\n",
    "\n",
    "The following code creates a `DataFrame` from a dictionary and displays its contents:"
   ]
  },
  {
   "cell_type": "code",
   "execution_count": null,
   "id": "e5189d54",
   "metadata": {},
   "outputs": [],
   "source": [
    "data = {'sat': ['G01', 'R24', 'E31'],\n",
    "        'pseudorange_m': [23364923.0, 21982625.0, 20396298.0]}\n",
    "df = pd.DataFrame(data)\n",
    "\n",
    "print(df)"
   ]
  },
  {
   "cell_type": "markdown",
   "id": "f6d48623",
   "metadata": {},
   "source": [
    "Alternatively, `pandas` makes it easy to read data from various file formats, such as CSV, Excel, SQL databases, etc. Here's how you can read data from a CSV file."
   ]
  },
  {
   "cell_type": "code",
   "execution_count": null,
   "id": "2cb5e846",
   "metadata": {},
   "outputs": [],
   "source": [
    "# Read data from a CSV file\n",
    "data_file = '../assets/sample.csv'\n",
    "df = pd.read_csv(data_file)\n",
    "\n",
    "# Display the first few rows of the DataFrame\n",
    "print(df.head())\n"
   ]
  },
  {
   "cell_type": "markdown",
   "id": "8adaa8c7",
   "metadata": {},
   "source": [
    "## Basic DataFrame Operations\n",
    "\n",
    "Pandas offers numerous functions to manipulate and analyze data.\n",
    "\n",
    "### Selection\n",
    "\n",
    "To select the rows of a specific column-value of the `DataFrame`, you can use `dict`-like indexing"
   ]
  },
  {
   "cell_type": "code",
   "execution_count": null,
   "id": "7d20bbe3",
   "metadata": {},
   "outputs": [],
   "source": [
    "satellites = df['sat']\n",
    "print(satellites)"
   ]
  },
  {
   "cell_type": "markdown",
   "id": "0ae2f758",
   "metadata": {},
   "source": [
    "### Filter\n",
    "\n",
    "You can also filter data for a specific value of a column. Let's for instance \n",
    "select all the rows that correspond to a specific satellite:"
   ]
  },
  {
   "cell_type": "code",
   "execution_count": null,
   "id": "23c63701",
   "metadata": {},
   "outputs": [],
   "source": [
    "ranges = df[df['sat'] == 'E14']\n",
    "print(ranges)"
   ]
  },
  {
   "cell_type": "markdown",
   "id": "ec0dc0dd",
   "metadata": {},
   "source": [
    "If you need to select those satellites whose range is lower than a threshold:"
   ]
  },
  {
   "cell_type": "code",
   "execution_count": null,
   "id": "f1b9fcc1",
   "metadata": {},
   "outputs": [],
   "source": [
    "lower_satellites = df[df['pseudorange_m'] < 21000000]\n",
    "print(lower_satellites)"
   ]
  },
  {
   "cell_type": "markdown",
   "id": "e32f93ad",
   "metadata": {},
   "source": [
    "### Adding new columns\n",
    "\n",
    "Sometimes you will need to add data to a `DataFrame`, in particular new columns to it.\n",
    "To do so, you will basically need to add an array with the same number of elements\n",
    "than the rows of the `DataFrame`, for instance:"
   ]
  },
  {
   "cell_type": "code",
   "execution_count": null,
   "id": "44759194",
   "metadata": {},
   "outputs": [],
   "source": [
    "df['epoch_s'] = [0, 0, 1, 1, 2, 2, 3, 3, 4, 4]\n",
    "print(df)"
   ]
  },
  {
   "cell_type": "markdown",
   "id": "5e7e74c9",
   "metadata": {},
   "source": [
    "### Sorting\n",
    "\n",
    "Another basic operation is to sort based on a specific column. To sort the\n",
    "`DataFrame` by satellites, use the following command:"
   ]
  },
  {
   "cell_type": "code",
   "execution_count": null,
   "id": "a3dfbca1",
   "metadata": {},
   "outputs": [],
   "source": [
    "sorted_df = df.sort_values(by='sat', ascending=False)\n",
    "print(sorted_df)"
   ]
  },
  {
   "cell_type": "markdown",
   "id": "a5b3418a",
   "metadata": {},
   "source": [
    "### Groups\n",
    "\n",
    "An important feature of `DataFrame` is the ability to work with groups of data\n",
    "selected from a certain criteria. An example using our data set would be grouping\n",
    "by e.g. satellite, epoch,... and perform direct operations on the values of this group.\n",
    "\n",
    "For instance, if we'd like to compute the average pseudorange for each \n",
    "satellite, we would use the following code snippet:"
   ]
  },
  {
   "cell_type": "code",
   "execution_count": null,
   "id": "9ce4f8b6",
   "metadata": {},
   "outputs": [],
   "source": [
    "grouped = df.groupby('sat')['pseudorange_m'].mean()\n",
    "print(grouped)"
   ]
  },
  {
   "cell_type": "markdown",
   "id": "46df7f48",
   "metadata": {},
   "source": [
    "### Data Visualization\n",
    "\n",
    "Albeit `pandas` provides basic plotting capabilities using the `plot()` function,\n",
    "you can also use [`matplotlib`](https://matplotlib.org/) for this purpose, which will give you more flexibility."
   ]
  },
  {
   "cell_type": "code",
   "execution_count": null,
   "id": "081291ba",
   "metadata": {},
   "outputs": [],
   "source": [
    "import matplotlib.pyplot as plt"
   ]
  },
  {
   "cell_type": "markdown",
   "id": "85c20823",
   "metadata": {},
   "source": [
    "In our example, plotting the pseudorange data of all satellites and also for a\n",
    "certain satellite, can be plot as follows:"
   ]
  },
  {
   "cell_type": "code",
   "execution_count": null,
   "id": "a51f19b6",
   "metadata": {},
   "outputs": [],
   "source": [
    "# Scatter plot for all satellites\n",
    "plt.scatter(df['epoch_s'], df['pseudorange_m'], label=\"all\")\n",
    "\n",
    "# Plot for a specific satellite\n",
    "satellite = \"E14\"\n",
    "df_sat = df[df['sat']== satellite]\n",
    "plt.scatter(df_sat['epoch_s'], df_sat['pseudorange_m'], marker='.', label=satellite)\n",
    "plt.legend()\n",
    "plt.show()\n"
   ]
  },
  {
   "cell_type": "code",
   "execution_count": null,
   "id": "991b6f06",
   "metadata": {},
   "outputs": [],
   "source": []
  }
 ],
 "metadata": {
  "kernelspec": {
   "display_name": "Python 3 (ipykernel)",
   "language": "python",
   "name": "python3"
  },
  "language_info": {
   "codemirror_mode": {
    "name": "ipython",
    "version": 3
   },
   "file_extension": ".py",
   "mimetype": "text/x-python",
   "name": "python",
   "nbconvert_exporter": "python",
   "pygments_lexer": "ipython3",
   "version": "3.11.3"
  }
 },
 "nbformat": 4,
 "nbformat_minor": 5
}
