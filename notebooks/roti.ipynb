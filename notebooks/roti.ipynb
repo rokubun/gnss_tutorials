{
 "cells": [
  {
   "cell_type": "markdown",
   "metadata": {},
   "source": [
    "# Recipe: ROTI\n",
    "\n",
    "In this recipe we will replicate Figure 2b of {cite:p}`juan2017method` (for the SEY1 station and GPS PRN26) using the methodology described in {prf:ref}`roti`.\n",
    "\n",
    "This recipe includes the following steps:\n",
    "\n",
    "- Loading a Rinex file into a `pandas` DataFrame for later processing\n",
    "- Computing the LI for a satellite\n",
    "- Computing the $\\Delta STEC$ for a satellite\n",
    "- Computing the ROTI\n",
    "\n",
    "First we will import some necessary modules:"
   ]
  },
  {
   "cell_type": "code",
   "execution_count": null,
   "metadata": {
    "tags": [
     "hide-input"
    ]
   },
   "outputs": [],
   "source": [
    "import matplotlib.pyplot as plt\n",
    "import numpy as np\n",
    "import pandas as pd\n",
    "from roktools import rinex\n",
    "\n",
    "# Import various classes that will be used to filter DataFrame\n",
    "from roktools.gnss.types import ConstellationId, TrackingChannel, Satellite\n",
    "\n",
    "# Add the path so that we can import the custom code of this Jupyter book\n",
    "import sys\n",
    "sys.path.append('../source/')\n",
    "\n",
    "# Import methods from the custom code of this book\n",
    "from gnss.observables import compute_geometry_free\n",
    "from gnss.edit import mark_time_gap\n",
    "from helpers import compute_decimal_hours\n",
    "\n",
    "%matplotlib widget"
   ]
  },
  {
   "cell_type": "markdown",
   "metadata": {},
   "source": [
    "## Load a Rinex\n",
    "\n",
    "The `roktools` module contains a utility method that loads a RINEX file into a convenient data structure (`pandas` DataFrame) that eases data analysis. "
   ]
  },
  {
   "cell_type": "code",
   "execution_count": null,
   "metadata": {
    "tags": []
   },
   "outputs": [],
   "source": [
    "rinex_file = '../assets/SEYG00SYC_R_20140581500_05H_01S_MO.rnx'\n",
    "\n",
    "df = rinex.to_dataframe(rinex_file)"
   ]
  },
  {
   "cell_type": "markdown",
   "metadata": {},
   "source": [
    "The contents of the `DataFrame` are layout as a data table, with various columns (pseudorange, phase, Doppler, ...).\n",
    "To peek the first contents of the RINEX file and check how the data is organized and which are the differents columns of the table, use the `head` function. "
   ]
  },
  {
   "cell_type": "code",
   "execution_count": null,
   "metadata": {
    "tags": []
   },
   "outputs": [],
   "source": [
    "df.head()"
   ]
  },
  {
   "cell_type": "markdown",
   "metadata": {},
   "source": [
    "Within each column, data is stored as Python classes. For instance, the column `sat` contains the satellite, but it is not stored as a `string`, but as a `Satellite` object. To check the class type, use the following command\n"
   ]
  },
  {
   "cell_type": "code",
   "execution_count": null,
   "metadata": {
    "tags": []
   },
   "outputs": [],
   "source": [
    "df['sat'].dtype"
   ]
  },
  {
   "cell_type": "markdown",
   "metadata": {},
   "source": [
    "Unfortunately, the `O` identifier tells us that the `sat` is an object, but we do not have information in the specific class. To know the specific class type. Do this instead:"
   ]
  },
  {
   "cell_type": "code",
   "execution_count": null,
   "metadata": {
    "tags": []
   },
   "outputs": [],
   "source": [
    "df['sat'].apply(type).head()"
   ]
  },
  {
   "cell_type": "markdown",
   "metadata": {},
   "source": [
    "Now that the whole RINEX is loaded into the `DataFrame`, you can perform some basics checks such as getting the e.g. list of the satellites contained in the file:"
   ]
  },
  {
   "cell_type": "code",
   "execution_count": null,
   "metadata": {
    "tags": []
   },
   "outputs": [],
   "source": [
    "df['sat'].unique()"
   ]
  },
  {
   "cell_type": "markdown",
   "metadata": {},
   "source": [
    "You can also select the data for just one satellite"
   ]
  },
  {
   "cell_type": "code",
   "execution_count": null,
   "metadata": {
    "tags": []
   },
   "outputs": [],
   "source": [
    "\n",
    "# Create a Satellite object, that will be used for the DataFrame indexing\n",
    "sat = Satellite.from_string('G26')\n",
    "\n",
    "# Create a \"sub-DataFrame\" with the contents for this satellite only\n",
    "df_sat = df[df['sat'] == sat]\n",
    "df_sat.head()"
   ]
  },
  {
   "cell_type": "markdown",
   "metadata": {
    "tags": []
   },
   "source": [
    "## Compute the ionospheric combination\n",
    "\n",
    "In this section we will compute the ionospheric (or geometry-free) combination (see equation [](iono_comb_phase)) for a specific satellite and data combination. To do this, we will use [`pandas` merge function](https://pandas.pydata.org/pandas-docs/stable/reference/api/pandas.merge.html). The `merge` function allow us to join two `DataFrame`s based on the contents of a column in an efficient, vectorized manner, without cumbersome `for` loops, which typically slow down Python code (and in general should be avoided)\n",
    "\n",
    "First let's check which are the different tracking channels available for a the previous satellite:"
   ]
  },
  {
   "cell_type": "code",
   "execution_count": null,
   "metadata": {
    "tags": []
   },
   "outputs": [],
   "source": [
    "df_sat['channel'].unique()"
   ]
  },
  {
   "cell_type": "markdown",
   "metadata": {},
   "source": [
    "To compute the ionospheric combination we need to pick two channels, for this example we will pick the observables generated with the C/A tracking loop at the L1 frequency (RINEX code `1C`) and the encrypted code at the L2 (RINEX code `2W`, usually obtained with proprietary techniques such as *semi-codeless* tracking)"
   ]
  },
  {
   "cell_type": "code",
   "execution_count": null,
   "metadata": {
    "tags": []
   },
   "outputs": [],
   "source": [
    "\n",
    "ch_a = TrackingChannel.from_string('1C')\n",
    "ch_b = TrackingChannel.from_string('2W')\n",
    "\n",
    "# Select the channels that will be used for this recipe\n",
    "df_sat_ch_a = df_sat[df_sat['channel'] == str(ch_a)]\n",
    "df_sat_ch_b = df_sat[df_sat['channel'] == str(ch_b)]\n",
    "\n",
    "# Check the results\n",
    "df_sat_ch_a.head()"
   ]
  },
  {
   "cell_type": "markdown",
   "metadata": {},
   "source": [
    "Now use the `merge` method to compute the LI combination"
   ]
  },
  {
   "cell_type": "code",
   "execution_count": null,
   "metadata": {
    "tags": []
   },
   "outputs": [],
   "source": [
    "df_sat_li = pd.merge(df_sat_ch_a, df_sat_ch_b, on='epoch', how='inner', suffixes=('_a', '_b'))\n",
    "df_sat_li.tail()"
   ]
  },
  {
   "cell_type": "markdown",
   "metadata": {},
   "source": [
    "The RINEX format specifies the carrier phase as cycles, and therefore to compute the ionospheric combination we will need to convert the data to meters. To do this we first need to compute the wavelength of the data for each tracking channel"
   ]
  },
  {
   "cell_type": "code",
   "execution_count": null,
   "metadata": {
    "tags": []
   },
   "outputs": [],
   "source": [
    "# Get the wavelength for each tracking channel\n",
    "wl_a = ch_a.get_wavelength(sat.constellation)\n",
    "wl_b = ch_b.get_wavelength(sat.constellation)"
   ]
  },
  {
   "cell_type": "markdown",
   "metadata": {},
   "source": [
    "Now computing the ionospheric combination is straightforward. We will create the LI combination as a **new column into the `DataFrame`** (to align the data with the epochs for later analysis)."
   ]
  },
  {
   "cell_type": "code",
   "execution_count": null,
   "metadata": {
    "tags": []
   },
   "outputs": [],
   "source": [
    "df_sat_li['li'] = df_sat_li['phase_a'] * wl_a - df_sat_li['phase_b'] * wl_b"
   ]
  },
  {
   "cell_type": "markdown",
   "metadata": {},
   "source": [
    "We can now plot the LI combination using `matplotlib` plotting functions:"
   ]
  },
  {
   "cell_type": "code",
   "execution_count": null,
   "metadata": {
    "tags": []
   },
   "outputs": [],
   "source": [
    "# Close all previous figures\n",
    "plt.close()\n",
    "\n",
    "# Plot the LI against the time\n",
    "plt.plot(df_sat_li['epoch'], df_sat_li['li'], '.')\n",
    "plt.title(f'LI combination for {sat}')\n",
    "plt.xlabel('Time [hour of 2014 doy 058]')\n",
    "plt.ylabel('LI [m]')"
   ]
  },
  {
   "cell_type": "markdown",
   "metadata": {},
   "source": [
    "## Compute $\\Delta STEC$\n",
    "\n",
    "We now will create another cell that contain the $\\Delta STEC$, computed as the time derivative of the geometric free combination ($LI$). As shown before (see equation [](iono_comb_phase), besides the $STEC$, the geometry free combination of phases contain the phase ambiguities and the uncalibrated phase biases, which vanish with the time differentiation thanks to its constant nature. Therefore, the only term that will accompany the $\\Delta STEC$ is the phase measurement noise ($\\sqrt{2}\\cdot \\varepsilon_L$), which can be considered in the millimeter range.\n",
    "\n",
    "To compute the time difference of the geometry free combination, we can simply use the [`numpy.diff` function](https://numpy.org/doc/stable/reference/generated/numpy.diff.html), which, again, will save us from using `for` loops thanks to its vectorized nature."
   ]
  },
  {
   "cell_type": "code",
   "execution_count": null,
   "metadata": {
    "tags": []
   },
   "outputs": [],
   "source": [
    "d_li = np.diff(df_sat_li['li'])"
   ]
  },
  {
   "cell_type": "markdown",
   "metadata": {},
   "source": [
    "We could now add this new time series into the dataframe. However, we must be careful due to a mismatch in the number of values: because of the difference operator, there is **one less value** in the `d_li` array, therefore, we need to add a sample manually."
   ]
  },
  {
   "cell_type": "code",
   "execution_count": null,
   "metadata": {
    "tags": []
   },
   "outputs": [],
   "source": [
    "# Number of samples in the difference time series\n",
    "len(d_li)"
   ]
  },
  {
   "cell_type": "code",
   "execution_count": null,
   "metadata": {
    "tags": []
   },
   "outputs": [],
   "source": [
    "# Number of samples in the original geometry combination time series\n",
    "len(df_sat_li['li'])"
   ]
  },
  {
   "cell_type": "markdown",
   "metadata": {},
   "source": [
    "We can insert (in this case prepend) a new sample in a numpy array using the insert method"
   ]
  },
  {
   "cell_type": "code",
   "execution_count": null,
   "metadata": {
    "tags": []
   },
   "outputs": [],
   "source": [
    "d_li = np.insert(d_li, 0, np.nan, axis=0)\n",
    "len(d_li)"
   ]
  },
  {
   "cell_type": "markdown",
   "metadata": {},
   "source": [
    "Now that we have homogenized sizes, we can create the column, but first we will perform some **data editing**, discarding (setting to NaN) all those LI values larger than a threshold (due to time gaps and cycle slips in the data). We can do this first by simple array indexing, to find those values larger than a threshold and then assign those rows to NaN.\n",
    "\n",
    "In order to have an idea on which are the elements to remove, we can plot the histogram to have an idea on the distribution of samples and have an idea on where to place the thresholds\n"
   ]
  },
  {
   "cell_type": "code",
   "execution_count": null,
   "metadata": {},
   "outputs": [],
   "source": [
    "plt.close()\n",
    "_ = plt.hist(d_li)"
   ]
  },
  {
   "cell_type": "markdown",
   "metadata": {},
   "source": [
    "From the histogram, it seems that samples below 2.5 could be safely discarded"
   ]
  },
  {
   "cell_type": "code",
   "execution_count": null,
   "metadata": {
    "tags": []
   },
   "outputs": [],
   "source": [
    "li_thresold = 1.0\n",
    "\n",
    "d_li[d_li > +li_thresold] = np.nan\n",
    "d_li[d_li < -li_thresold] = np.nan"
   ]
  },
  {
   "cell_type": "markdown",
   "metadata": {},
   "source": [
    "The $\\Delta STEC$ is simply the $\\Delta LI$ scaled by the $\\alpha$ factor, that depends on the frequencies used to compute the ionospheric combination"
   ]
  },
  {
   "cell_type": "code",
   "execution_count": null,
   "metadata": {
    "tags": []
   },
   "outputs": [],
   "source": [
    "f_a = ch_a.get_frequency(sat.constellation)\n",
    "f_b = ch_b.get_frequency(sat.constellation)\n",
    "\n",
    "alpha = 40.3 / (f_b * f_b) - 40.3 / (f_a * f_a)\n",
    "\n",
    "df_sat_li['d_stec_tecu_per_s'] = d_li / alpha / 1.0e16"
   ]
  },
  {
   "cell_type": "markdown",
   "metadata": {},
   "source": [
    "Now we can plot the STEC"
   ]
  },
  {
   "cell_type": "code",
   "execution_count": null,
   "metadata": {
    "tags": []
   },
   "outputs": [],
   "source": [
    "plt.close()\n",
    "plt.plot(df_sat_li['epoch'], df_sat_li['d_stec_tecu_per_s'] * 60, marker='.')\n",
    "plt.ylabel('Rate of STEC (TECU/min)')\n",
    "plt.xlabel('Epoch')\n",
    "plt.title('Rate of STEC')"
   ]
  },
  {
   "cell_type": "markdown",
   "metadata": {},
   "source": [
    "## Compute ROTI\n",
    "\n",
    "\n",
    "In order to compute the ROTI, we need to group the data in batches of a certain time period (e.g. 5 minutes) and compute the standard deviation for each of these batches. To do this we will use the [`resample` method](https://pandas.pydata.org/pandas-docs/stable/reference/api/pandas.DataFrame.resample.html), but to use this we first need to set the epoch column as index of the `DataFrame`"
   ]
  },
  {
   "cell_type": "code",
   "execution_count": null,
   "metadata": {
    "tags": []
   },
   "outputs": [],
   "source": [
    "# Set the epoch as DataFrame time index. The resample method will use\n",
    "# this index as basis for computation\n",
    "df_sat_li.set_index('epoch', inplace=True)"
   ]
  },
  {
   "cell_type": "code",
   "execution_count": null,
   "metadata": {
    "tags": []
   },
   "outputs": [],
   "source": [
    "# Resample the dSTEC data every 5 minutes\n",
    "df_sat_dstec_sampled = df_sat_li['d_stec_tecu_per_s'].resample('5T').std()\n",
    "df_sat_dstec_sampled.head()"
   ]
  },
  {
   "cell_type": "markdown",
   "metadata": {},
   "source": [
    "Now we can finally plot the data"
   ]
  },
  {
   "cell_type": "code",
   "execution_count": null,
   "metadata": {
    "tags": []
   },
   "outputs": [],
   "source": [
    "\n",
    "# Convert the pandas index (DateTimeIndex) to seconds for plotting\n",
    "datetime_array = df_sat_dstec_sampled.index.to_numpy()\n",
    "\n",
    "# Calculate the seconds of the day as a vectorized operation\n",
    "seconds_of_day = (datetime_array - datetime_array.astype('datetime64[D]')) \n",
    "\n",
    "# Convert the timedelta values to seconds\n",
    "seconds_of_day = seconds_of_day / np.timedelta64(1, 's')\n",
    "\n",
    "plt.close()\n",
    "plt.ylim(0,65)\n",
    "plt.xlim(0,86400)\n",
    "plt.xticks(np.linspace(0,86400, 7))\n",
    "plt.yticks(np.arange(0,65, step=5))\n",
    "plt.grid()\n",
    "plt.plot(seconds_of_day, df_sat_dstec_sampled * 60)\n",
    "plt.ylabel('Rate of TEC Index (TECU/min)')\n",
    "plt.xlabel('Seconds of day 2014, doy 58')\n",
    "plt.title('Rate of TEC Index for SEY1 station, GPS PRN26')"
   ]
  },
  {
   "cell_type": "markdown",
   "metadata": {},
   "source": [
    "### ROTI with affordable receivers\n",
    "\n",
    "The process can be repeated using an affordable receiver. In this case a\n",
    "MEDEA computer (based on the u-blox ZED-F9P and a Talysmann antenna)"
   ]
  },
  {
   "cell_type": "code",
   "execution_count": null,
   "metadata": {},
   "outputs": [],
   "source": [
    "rinex_file = '../assets/MTIC00ESP_R_20191221131_05H_01S_MO.rnx'\n",
    "\n",
    "df = rinex.to_dataframe(rinex_file)"
   ]
  },
  {
   "cell_type": "markdown",
   "metadata": {},
   "source": [
    "After loading the RINEX, let's perform some **basic data editing** to flag\n",
    "phase breaks due to time gaps"
   ]
  },
  {
   "cell_type": "code",
   "execution_count": null,
   "metadata": {},
   "outputs": [],
   "source": [
    "df = mark_time_gap(df)"
   ]
  },
  {
   "cell_type": "markdown",
   "metadata": {},
   "source": [
    "Selection of the channels for which the ionospheric combination needs to be performed"
   ]
  },
  {
   "cell_type": "code",
   "execution_count": null,
   "metadata": {},
   "outputs": [],
   "source": [
    "constellation = ConstellationId.GPS\n",
    "channel_a = TrackingChannel.from_string('1C')\n",
    "channel_b = TrackingChannel.from_string('2L')"
   ]
  },
  {
   "cell_type": "markdown",
   "metadata": {},
   "source": [
    "Once the channels have been selected, the ionospheric (or geometry-free) combination\n",
    "can be computed"
   ]
  },
  {
   "cell_type": "code",
   "execution_count": null,
   "metadata": {},
   "outputs": [],
   "source": [
    "df_li_gps = compute_geometry_free(df, constellation, channel_a, channel_b)\n",
    "\n",
    "# Preview the LI values\n",
    "df_li_gps.head()"
   ]
  },
  {
   "cell_type": "markdown",
   "metadata": {},
   "source": [
    "To compute the Slant Total Electron Content, we will need the $\\alpha_{LI}$ coefficient (that transforms\n",
    "LI to Slant Total Electron Content), which can be computed using the\n",
    "frequency associated to the channel bands:"
   ]
  },
  {
   "cell_type": "code",
   "execution_count": null,
   "metadata": {},
   "outputs": [],
   "source": [
    "f_a = channel_a.get_frequency(constellation)\n",
    "f_b = channel_b.get_frequency(constellation)\n",
    "\n",
    "alpha = 40.3 / (f_b * f_b) - 40.3 / (f_a * f_a)"
   ]
  },
  {
   "cell_type": "code",
   "execution_count": null,
   "metadata": {},
   "outputs": [],
   "source": [
    "sat = Satellite.from_string('G29')\n",
    "df_sat = df_li_gps[df_li_gps['sat'] == sat]\n",
    "\n",
    "t = compute_decimal_hours(df_sat['epoch'])\n",
    "plt.close()\n",
    "plt.title(f\"LI combination for {sat}\")\n",
    "plt.plot(t, df_sat['li_m'], '.')\n",
    "plt.xlabel(f\"Time [ hour of {df_sat.iloc[0]['epoch'].date()} ]\")\n",
    "plt.ylabel(\"LI [m]\")"
   ]
  },
  {
   "cell_type": "markdown",
   "metadata": {},
   "source": [
    "Once the LI combination is obtained, we are in the position of computing the $\\Delta STEC$ as follows:"
   ]
  },
  {
   "cell_type": "code",
   "execution_count": null,
   "metadata": {},
   "outputs": [],
   "source": [
    "df_li_gps['d_stec_tecu_per_s'] = df_li_gps.groupby('sat')['li_m'].diff() / alpha / 1.0e16"
   ]
  },
  {
   "cell_type": "code",
   "execution_count": null,
   "metadata": {},
   "outputs": [],
   "source": [
    "df_sat = df_li_gps[df_li_gps['sat'] == sat]\n",
    "\n",
    "t = compute_decimal_hours(df_sat['epoch'])\n",
    "plt.close()\n",
    "plt.title(f\"Time difference of STEC for {sat}\")\n",
    "plt.plot(t, df_sat['d_stec_tecu_per_s'], '.')\n",
    "plt.xlabel(f\"Time [ hour of {df_sat.iloc[0]['epoch'].date()} ]\")\n",
    "plt.ylabel(\"DSTEC [TECU/s]\")\n",
    "plt.ylim(-1, 1)"
   ]
  },
  {
   "cell_type": "markdown",
   "metadata": {},
   "source": [
    "Once the time difference of the STEC has been computed we can now proceed to\n",
    "compute the standard deviation $\\sigma$ for intervals of 5 minutes on a per-satellite\n",
    "basis (i.e. definition of ROTI)"
   ]
  },
  {
   "cell_type": "code",
   "execution_count": null,
   "metadata": {},
   "outputs": [],
   "source": [
    "# Set 'epoch' as the DataFrame index\n",
    "df_li_gps.set_index('epoch', inplace=True)"
   ]
  },
  {
   "cell_type": "code",
   "execution_count": null,
   "metadata": {},
   "outputs": [],
   "source": [
    "# Group the samples in 5 minute intervals and compute the sigma (i.e. ROTI)\n",
    "df_roti = df_li_gps.groupby('sat').resample('5T').std(numeric_only=True).reset_index()"
   ]
  },
  {
   "cell_type": "markdown",
   "metadata": {},
   "source": [
    "Plot the ROTI for a satellite"
   ]
  },
  {
   "cell_type": "code",
   "execution_count": null,
   "metadata": {},
   "outputs": [],
   "source": [
    "df_sat = df_roti[df_roti['sat'] == sat]\n",
    "\n",
    "plt.close()\n",
    "\n",
    "t = compute_decimal_hours(df_sat['epoch'])\n",
    "\n",
    "plt.close()\n",
    "plt.ylim(0,65)\n",
    "plt.yticks(np.arange(0,65, step=5))\n",
    "plt.grid()\n",
    "plt.ylabel('Rate of TEC Index (TECU/min)')\n",
    "plt.xlabel(f\"Time [ hour of {df_sat.iloc[0]['epoch'].date()} ]\")\n",
    "plt.title(f'ROTI for affordable receiver, satellite {sat}')\n",
    "plt.plot(t, df_sat['d_stec_tecu_per_s'] *60)\n"
   ]
  },
  {
   "cell_type": "markdown",
   "metadata": {},
   "source": [
    "In this particular case, no scintillation event was detected (also likely due\n",
    "to the fact that the take was performed in mid latitude, in a quiet ionospheric\n",
    "period). Note the peaks observed in the data. These are artifacts due to \n",
    "cycle slips.\n",
    "\n",
    "Higher ROTI values have been also detected in other cases at low elevations. \n",
    "Care must be exercised in affordable receivers (i.e. atennas) since low\n",
    "elevations might include multipath. Therefore, a **conservative elevation mask**\n",
    "(e.g. $>15^\\circ$) is recommended when processing affordable receivers"
   ]
  }
 ],
 "metadata": {
  "kernelspec": {
   "display_name": "Python 3 (ipykernel)",
   "language": "python",
   "name": "python3"
  },
  "language_info": {
   "codemirror_mode": {
    "name": "ipython",
    "version": 3
   },
   "file_extension": ".py",
   "mimetype": "text/x-python",
   "name": "python",
   "nbconvert_exporter": "python",
   "pygments_lexer": "ipython3",
   "version": "3.11.3"
  }
 },
 "nbformat": 4,
 "nbformat_minor": 4
}
