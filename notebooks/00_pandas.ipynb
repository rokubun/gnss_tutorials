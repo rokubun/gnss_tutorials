{
 "cells": [
  {
   "cell_type": "markdown",
   "id": "825521f4-225f-4a90-87b6-4e4dfdd2049a",
   "metadata": {},
   "source": [
    "# Pandas\n",
    "\n",
    "In this section, you will find a basic tutorial on [Pandas](https://pandas.pydata.org/), which is *\"a fast, powerful, flexible and easy to use open source data analysis and manipulation tool\"*. "
   ]
  },
  {
   "cell_type": "code",
   "execution_count": null,
   "id": "9b267868-944a-4280-af9b-5761e61e6c73",
   "metadata": {
    "tags": []
   },
   "outputs": [],
   "source": [
    "!pip install pandas\n"
   ]
  },
  {
   "cell_type": "code",
   "execution_count": null,
   "id": "4fa1037d-b996-4835-b896-6d5d309fce67",
   "metadata": {},
   "outputs": [],
   "source": [
    "import pandas as pd"
   ]
  }
 ],
 "metadata": {
  "kernelspec": {
   "display_name": "Python 3 (ipykernel)",
   "language": "python",
   "name": "python3"
  },
  "language_info": {
   "codemirror_mode": {
    "name": "ipython",
    "version": 3
   },
   "file_extension": ".py",
   "mimetype": "text/x-python",
   "name": "python",
   "nbconvert_exporter": "python",
   "pygments_lexer": "ipython3",
   "version": "3.10.11"
  }
 },
 "nbformat": 4,
 "nbformat_minor": 5
}
